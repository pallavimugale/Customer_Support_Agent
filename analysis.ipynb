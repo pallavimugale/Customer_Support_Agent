{
 "cells": [
  {
   "cell_type": "markdown",
   "id": "80e06e79",
   "metadata": {},
   "source": [
    "# Imports"
   ]
  },
  {
   "cell_type": "code",
   "execution_count": 1,
   "id": "bc608006",
   "metadata": {},
   "outputs": [
    {
     "name": "stderr",
     "output_type": "stream",
     "text": [
      "/Users/pallavimugale/Documents/@GenAI_Python/Customer_Support_Agent/Customer_Support_Agent/customer_support_env/lib/python3.11/site-packages/tqdm/auto.py:21: TqdmWarning: IProgress not found. Please update jupyter and ipywidgets. See https://ipywidgets.readthedocs.io/en/stable/user_install.html\n",
      "  from .autonotebook import tqdm as notebook_tqdm\n"
     ]
    }
   ],
   "source": [
    "import faiss\n",
    "import numpy as np\n",
    "from collections import defaultdict\n",
    "import pandas as pd\n",
    "import config\n",
    "\n",
    "\n",
    "from src.helper import create_embeddings, create_index, semantic_similarity, call_llm"
   ]
  },
  {
   "cell_type": "markdown",
   "id": "4c100fee",
   "metadata": {},
   "source": [
    "# Load the dataset"
   ]
  },
  {
   "cell_type": "code",
   "execution_count": 2,
   "id": "58b577c5",
   "metadata": {},
   "outputs": [
    {
     "data": {
      "text/html": [
       "<div>\n",
       "<style scoped>\n",
       "    .dataframe tbody tr th:only-of-type {\n",
       "        vertical-align: middle;\n",
       "    }\n",
       "\n",
       "    .dataframe tbody tr th {\n",
       "        vertical-align: top;\n",
       "    }\n",
       "\n",
       "    .dataframe thead th {\n",
       "        text-align: right;\n",
       "    }\n",
       "</style>\n",
       "<table border=\"1\" class=\"dataframe\">\n",
       "  <thead>\n",
       "    <tr style=\"text-align: right;\">\n",
       "      <th></th>\n",
       "      <th>flags</th>\n",
       "      <th>instruction</th>\n",
       "      <th>category</th>\n",
       "      <th>intent</th>\n",
       "      <th>response</th>\n",
       "    </tr>\n",
       "  </thead>\n",
       "  <tbody>\n",
       "    <tr>\n",
       "      <th>0</th>\n",
       "      <td>B</td>\n",
       "      <td>question about cancelling order {{Order Number}}</td>\n",
       "      <td>ORDER</td>\n",
       "      <td>cancel_order</td>\n",
       "      <td>I've understood you have a question regarding ...</td>\n",
       "    </tr>\n",
       "    <tr>\n",
       "      <th>1</th>\n",
       "      <td>BQZ</td>\n",
       "      <td>i have a question about cancelling oorder {{Or...</td>\n",
       "      <td>ORDER</td>\n",
       "      <td>cancel_order</td>\n",
       "      <td>I've been informed that you have a question ab...</td>\n",
       "    </tr>\n",
       "    <tr>\n",
       "      <th>2</th>\n",
       "      <td>BLQZ</td>\n",
       "      <td>i need help cancelling puchase {{Order Number}}</td>\n",
       "      <td>ORDER</td>\n",
       "      <td>cancel_order</td>\n",
       "      <td>I can sense that you're seeking assistance wit...</td>\n",
       "    </tr>\n",
       "    <tr>\n",
       "      <th>3</th>\n",
       "      <td>BL</td>\n",
       "      <td>I need to cancel purchase {{Order Number}}</td>\n",
       "      <td>ORDER</td>\n",
       "      <td>cancel_order</td>\n",
       "      <td>I understood that you need assistance with can...</td>\n",
       "    </tr>\n",
       "    <tr>\n",
       "      <th>4</th>\n",
       "      <td>BCELN</td>\n",
       "      <td>I cannot afford this order, cancel purchase {{...</td>\n",
       "      <td>ORDER</td>\n",
       "      <td>cancel_order</td>\n",
       "      <td>I'm sensitive to the fact that you're facing f...</td>\n",
       "    </tr>\n",
       "  </tbody>\n",
       "</table>\n",
       "</div>"
      ],
      "text/plain": [
       "   flags                                        instruction category  \\\n",
       "0      B   question about cancelling order {{Order Number}}    ORDER   \n",
       "1    BQZ  i have a question about cancelling oorder {{Or...    ORDER   \n",
       "2   BLQZ    i need help cancelling puchase {{Order Number}}    ORDER   \n",
       "3     BL         I need to cancel purchase {{Order Number}}    ORDER   \n",
       "4  BCELN  I cannot afford this order, cancel purchase {{...    ORDER   \n",
       "\n",
       "         intent                                           response  \n",
       "0  cancel_order  I've understood you have a question regarding ...  \n",
       "1  cancel_order  I've been informed that you have a question ab...  \n",
       "2  cancel_order  I can sense that you're seeking assistance wit...  \n",
       "3  cancel_order  I understood that you need assistance with can...  \n",
       "4  cancel_order  I'm sensitive to the fact that you're facing f...  "
      ]
     },
     "execution_count": 2,
     "metadata": {},
     "output_type": "execute_result"
    }
   ],
   "source": [
    "# csv into datafreame\n",
    "df= pd.read_csv(config.CUSTOMER_SUPPORT_TRAINNING_DATASET)\n",
    "\n",
    "#preview the first top 5 data\n",
    "df.head()"
   ]
  },
  {
   "cell_type": "code",
   "execution_count": 3,
   "id": "9250f826",
   "metadata": {},
   "outputs": [
    {
     "data": {
      "text/plain": [
       "<Axes: xlabel='category'>"
      ]
     },
     "execution_count": 3,
     "metadata": {},
     "output_type": "execute_result"
    },
    {
     "data": {
      "image/png": "[encoded data removed]",
      "text/plain": [
       "<Figure size 640x480 with 1 Axes>"
      ]
     },
     "metadata": {},
     "output_type": "display_data"
    }
   ],
   "source": [
    "#count the categories and plot the bar chart graph where x :show the category and y will show the count \n",
    "df['category'].value_counts().plot(kind='bar')"
   ]
  },
  {
   "cell_type": "code",
   "execution_count": 4,
   "id": "20b021db",
   "metadata": {},
   "outputs": [
    {
     "data": {
      "text/plain": [
       "{'ORDER': ['change_order', 'place_order', 'track_order', 'cancel_order'],\n",
       " 'SHIPPING': ['set_up_shipping_address', 'change_shipping_address'],\n",
       " 'CANCEL': ['check_cancellation_fee'],\n",
       " 'INVOICE': ['check_invoice', 'get_invoice'],\n",
       " 'PAYMENT': ['check_payment_methods', 'payment_issue'],\n",
       " 'REFUND': ['check_refund_policy', 'track_refund', 'get_refund'],\n",
       " 'FEEDBACK': ['review', 'complaint'],\n",
       " 'CONTACT': ['contact_customer_service', 'contact_human_agent'],\n",
       " 'ACCOUNT': ['create_account',\n",
       "  'registration_problems',\n",
       "  'delete_account',\n",
       "  'switch_account',\n",
       "  'recover_password',\n",
       "  'edit_account'],\n",
       " 'DELIVERY': ['delivery_period', 'delivery_options'],\n",
       " 'SUBSCRIPTION': ['newsletter_subscription']}"
      ]
     },
     "execution_count": 4,
     "metadata": {},
     "output_type": "execute_result"
    }
   ],
   "source": [
    "# create a dict where key is category and value will be list of unique 'intent' column values\n",
    "category_intent_dict=defaultdict(set) #used set for unique items\n",
    "\n",
    "#loop earch row and pair the category and intent\n",
    "for category ,intent in zip(df['category'],df['intent']):\n",
    "    category_intent_dict[category].add(intent)\n",
    "\n",
    "#convert defaultdict to regular dict and sets the lists for display\n",
    "category_intent_dict={k:list(v) for k,v in category_intent_dict.items()}\n",
    "\n",
    "category_intent_dict\n"
   ]
  },
  {
   "cell_type": "code",
   "execution_count": 5,
   "id": "0a7c2e50",
   "metadata": {},
   "outputs": [
    {
     "name": "stdout",
     "output_type": "stream",
     "text": [
      "Avg of instrauction token count: 8.690979458172075\n",
      "Avg rsponse token count: 104.78903691574874\n"
     ]
    }
   ],
   "source": [
    "#calculate the. avg token count for instruction and responses using split method\n",
    "avg_instruction_token_count = df['instruction'].apply(lambda x:len(x.split())).mean()\n",
    "avg_response_token_count = df['response'].apply(lambda x:len(x.split())).mean()\n",
    "\n",
    "print(f'Avg of instrauction token count: {avg_instruction_token_count}')\n",
    "print(f'Avg rsponse token count: {avg_response_token_count}')"
   ]
  },
  {
   "cell_type": "markdown",
   "id": "cd8fb3de",
   "metadata": {},
   "source": [
    "# Vectorization of dataset"
   ]
  },
  {
   "cell_type": "code",
   "execution_count": null,
   "id": "2f39a19e",
   "metadata": {},
   "outputs": [],
   "source": [
    "vectors = create_embeddings(df, column_name='instruction', model=config.EMBEDDING_MODEL) "
   ]
  },
  {
   "cell_type": "code",
   "execution_count": null,
   "id": "cdf6b800",
   "metadata": {},
   "outputs": [
    {
     "data": {
      "text/plain": [
       "(26872, 384)"
      ]
     },
     "execution_count": 8,
     "metadata": {},
     "output_type": "execute_result"
    }
   ],
   "source": [
    "vectors.shape"
   ]
  },
  {
   "cell_type": "code",
   "execution_count": null,
   "id": "fd00e33c",
   "metadata": {},
   "outputs": [
    {
     "name": "stdout",
     "output_type": "stream",
     "text": [
      "faiss index is created and added to the file\n"
     ]
    }
   ],
   "source": [
    "#save the embedding to vector db \n",
    "index= create_index(vectors,index_file_path=config.VECTOR_INDEX_FILE_PATH)"
   ]
  },
  {
   "cell_type": "markdown",
   "id": "d603b86e",
   "metadata": {},
   "source": [
    "# Load Vector DB"
   ]
  },
  {
   "cell_type": "code",
   "execution_count": null,
   "id": "7478bd6a",
   "metadata": {},
   "outputs": [],
   "source": [
    "index= faiss.read_index(config.VECTOR_INDEX_FILE_PATH)"
   ]
  },
  {
   "cell_type": "markdown",
   "id": "bac0ed30",
   "metadata": {},
   "source": [
    "# User Query"
   ]
  },
  {
   "cell_type": "code",
   "execution_count": null,
   "id": "bd091091",
   "metadata": {},
   "outputs": [],
   "source": [
    "query=\"change my address\""
   ]
  },
  {
   "cell_type": "code",
   "execution_count": null,
   "id": "b2390e32",
   "metadata": {},
   "outputs": [],
   "source": [
    "distances, indices= semantic_similarity(query, index, config.EMBEDDING_MODEL)\n",
    "\n",
    "top_similar_instructions=df.iloc[indices[0]].reset_index(drop=True)\n",
    "top_similar_instructions['distance']=distances[0]"
   ]
  },
  {
   "cell_type": "code",
   "execution_count": null,
   "id": "86d56b73",
   "metadata": {},
   "outputs": [
    {
     "name": "stdout",
     "output_type": "stream",
     "text": [
      "Response from LLM:\n",
      " Based on the input query \"change my address\", I would:\n",
      "\n",
      "1. Determine the urgency of the query as 3 (out of 5), as it's a relatively straightforward request that doesn't require immediate attention.\n",
      "\n",
      "2. Categorize the input query as \"Operations\" (specifically, account management).\n",
      "\n",
      "3. Generate a humble response:\n",
      "\"Definitely! I'm here to assist you with changing your address. To get started, please provide me with your current shipping address and the new address you would like to update it to.\"\n",
      "\n",
      "Note: If the customer's query is unclear or requires further clarification, I would ask a follow-up question, such as \"Could you please provide more details about the address you'd like to change, such as your current shipping address and the new address you'd like to update it to?\"\n"
     ]
    }
   ],
   "source": [
    "responses=top_similar_instructions['response'].to_list()\n",
    "#print('---#################----')\n",
    "#print(\"Responses from the dataset:\\n\", top_similar_instructions[['instruction', 'intent', 'response']].to_markdown(index=False))\n",
    "#print('---#################----')\n",
    "print(\"Response from LLM:\\n\", call_llm(query, responses))"
   ]
  },
  {
   "cell_type": "code",
   "execution_count": null,
   "id": "a03a8e0d",
   "metadata": {},
   "outputs": [],
   "source": []
  }
 ],
 "metadata": {
  "kernelspec": {
   "display_name": "customer_support_env",
   "language": "python",
   "name": "python3"
  },
  "language_info": {
   "codemirror_mode": {
    "name": "ipython",
    "version": 3
   },
   "file_extension": ".py",
   "mimetype": "text/x-python",
   "name": "python",
   "nbconvert_exporter": "python",
   "pygments_lexer": "ipython3",
   "version": "3.11.8"
  }
 },
 "nbformat": 4,
 "nbformat_minor": 5
}
